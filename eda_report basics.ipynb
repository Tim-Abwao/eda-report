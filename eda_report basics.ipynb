{
 "cells": [
  {
   "cell_type": "markdown",
   "metadata": {},
   "source": [
    "# 1. Generate a report document\n",
    "\n",
    "See [pandas IO tools][1] for ways to read data from various sources.\n",
    "\n",
    "[1]: https://pandas.pydata.org/pandas-docs/stable/user_guide/io.html"
   ]
  },
  {
   "cell_type": "code",
   "execution_count": 1,
   "metadata": {},
   "outputs": [
    {
     "name": "stderr",
     "output_type": "stream",
     "text": [
      "Bivariate analysis: 100%|███████████████████████████████████| 6/6 numeric pairs.\n",
      "Univariate analysis: 100%|███████████████████████████████████| 5/5 features.\n",
      "[INFO 15:36:32.455] Done. Results saved as 'iris-report.docx'\n"
     ]
    },
    {
     "data": {
      "text/html": [
       "<a href='iris-report.docx' target='_blank'>iris-report.docx</a><br>"
      ],
      "text/plain": [
       "/home/tim/Projects/auto-eda/iris-report.docx"
      ]
     },
     "execution_count": 1,
     "metadata": {},
     "output_type": "execute_result"
    }
   ],
   "source": [
    "from eda_report import get_word_report\n",
    "from seaborn import load_dataset\n",
    "from IPython.display import FileLink\n",
    "\n",
    "\n",
    "iris_data = load_dataset(\"iris\")\n",
    "file_name = \"iris-report.docx\"\n",
    "get_word_report(iris_data, output_filename=file_name, target_variable=\"species\")\n",
    "FileLink(file_name)"
   ]
  },
  {
   "cell_type": "markdown",
   "metadata": {},
   "source": [
    "# 2. Analyse univariate data"
   ]
  },
  {
   "cell_type": "code",
   "execution_count": 2,
   "metadata": {},
   "outputs": [
    {
     "data": {
      "text/plain": [
       "\t\tOverview\n",
       "\t\t========\n",
       "Name: 1 to 20\n",
       "Type: numeric\n",
       "Unique Values: 20 -> [0, 1, 2, 3, 4, 5, 6, 7, 8, 9, 10, 11, 12, 13, [...]\n",
       "Missing Values: None\n",
       "\t\t  ***\n",
       "\t  Summary Statistics\n",
       "                         1 to 20\n",
       "Number of observations  20.00000\n",
       "Average                  9.50000\n",
       "Standard Deviation       5.91608\n",
       "Minimum                  0.00000\n",
       "Lower Quartile           4.75000\n",
       "Median                   9.50000\n",
       "Upper Quartile          14.25000\n",
       "Maximum                 19.00000\n",
       "Skewness                 0.00000\n",
       "Kurtosis                -1.20000"
      ]
     },
     "execution_count": 2,
     "metadata": {},
     "output_type": "execute_result"
    }
   ],
   "source": [
    "from eda_report.univariate import Variable\n",
    "\n",
    "X = Variable(range(20), name=\"1 to 20\")\n",
    "X"
   ]
  },
  {
   "cell_type": "markdown",
   "metadata": {},
   "source": [
    "# 3. Analyse multivariate data"
   ]
  },
  {
   "cell_type": "code",
   "execution_count": 3,
   "metadata": {
    "scrolled": false
   },
   "outputs": [
    {
     "data": {
      "text/plain": [
       "\t\t\tOVERVIEW\n",
       "\t\t\t========\n",
       "Numeric features: sepal_length, sepal_width, petal_length, petal_width\n",
       "Categorical features: species\n",
       "\t\t\t  ***\n",
       "\t  Summary Statistics (Numeric features)\n",
       "\t  -------------------------------------\n",
       "              count    mean     std  min  25%   50%  75%  max  skewness  \\\n",
       "sepal_length  150.0  5.8433  0.8281  4.3  5.1  5.80  6.4  7.9    0.3149   \n",
       "sepal_width   150.0  3.0573  0.4359  2.0  2.8  3.00  3.3  4.4    0.3190   \n",
       "petal_length  150.0  3.7580  1.7653  1.0  1.6  4.35  5.1  6.9   -0.2749   \n",
       "petal_width   150.0  1.1993  0.7622  0.1  0.3  1.30  1.8  2.5   -0.1030   \n",
       "\n",
       "              kurtosis  \n",
       "sepal_length   -0.5521  \n",
       "sepal_width     0.2282  \n",
       "petal_length   -1.4021  \n",
       "petal_width    -1.3406  \n",
       "\t\t\t  ***\n",
       "\t  Summary Statistics (Categorical features)\n",
       "\t  -----------------------------------------\n",
       "        count unique     top freq relative freq\n",
       "species   150      3  setosa   50        33.33%\n",
       "\t\t\t  ***\n",
       "\t  Bivariate Analysis (Correlation)\n",
       "\t  --------------------------------\n",
       "petal_length & petal_width --> very strong positive correlation (0.96)\n",
       "sepal_length & petal_length --> strong positive correlation (0.87)\n",
       "sepal_length & petal_width --> strong positive correlation (0.82)\n",
       "sepal_length & sepal_width --> very weak negative correlation (-0.12)\n",
       "sepal_width & petal_length --> weak negative correlation (-0.43)\n",
       "sepal_width & petal_width --> weak negative correlation (-0.37)"
      ]
     },
     "execution_count": 3,
     "metadata": {},
     "output_type": "execute_result"
    }
   ],
   "source": [
    "from eda_report.multivariate import MultiVariable\n",
    "\n",
    "iris = MultiVariable(iris_data)\n",
    "iris"
   ]
  }
 ],
 "metadata": {
  "kernelspec": {
   "display_name": "Python 3 (ipykernel)",
   "language": "python",
   "name": "python3"
  },
  "language_info": {
   "codemirror_mode": {
    "name": "ipython",
    "version": 3
   },
   "file_extension": ".py",
   "mimetype": "text/x-python",
   "name": "python",
   "nbconvert_exporter": "python",
   "pygments_lexer": "ipython3",
   "version": "3.8.10"
  }
 },
 "nbformat": 4,
 "nbformat_minor": 4
}
