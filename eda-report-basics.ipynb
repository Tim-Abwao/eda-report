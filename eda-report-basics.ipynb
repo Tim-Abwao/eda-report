{
 "cells": [
  {
   "cell_type": "markdown",
   "metadata": {},
   "source": [
    "# 1. Get Summary Statistics\n",
    "\n",
    "See [pandas IO tools][1] for ways to read data from various sources.\n",
    "\n",
    "[1]: https://pandas.pydata.org/pandas-docs/stable/user_guide/io.html"
   ]
  },
  {
   "cell_type": "code",
   "execution_count": 1,
   "metadata": {},
   "outputs": [
    {
     "data": {
      "text/plain": [
       "\t\t\tOVERVIEW\n",
       "\t\t\t========\n",
       "Numeric features: mpg, cylinders, displacement, horsepower, weight, acceleration, model_year\n",
       "Categorical features: origin, name\n",
       "\n",
       "\t  Summary Statistics (Numeric features)\n",
       "\t  -------------------------------------\n",
       "              count       mean       std     min       25%     50%       75%  \\\n",
       "mpg           398.0    23.5146    7.8160     9.0    17.500    23.0    29.000   \n",
       "cylinders     398.0     5.4548    1.7010     3.0     4.000     4.0     8.000   \n",
       "displacement  398.0   193.4259  104.2698    68.0   104.250   148.5   262.000   \n",
       "horsepower    392.0   104.4694   38.4912    46.0    75.000    93.5   126.000   \n",
       "weight        398.0  2970.4246  846.8418  1613.0  2223.750  2803.5  3608.000   \n",
       "acceleration  398.0    15.5681    2.7577     8.0    13.825    15.5    17.175   \n",
       "model_year    398.0    76.0101    3.6976    70.0    73.000    76.0    79.000   \n",
       "\n",
       "                 max  skewness  kurtosis  \n",
       "mpg             46.6    0.4571   -0.5108  \n",
       "cylinders        8.0    0.5269   -1.3767  \n",
       "displacement   455.0    0.7196   -0.7466  \n",
       "horsepower     230.0    1.0873    0.6969  \n",
       "weight        5140.0    0.5311   -0.7855  \n",
       "acceleration    24.8    0.2788    0.4195  \n",
       "model_year      82.0    0.0115   -1.1812  \n",
       "\n",
       "\t  Summary Statistics (Categorical features)\n",
       "\t  -----------------------------------------\n",
       "       count unique         top freq relative freq\n",
       "origin   398      3         usa  249        62.56%\n",
       "name     398    305  ford pinto    6         1.51%\n",
       "\n",
       "\t  Bivariate Analysis (Correlation)\n",
       "\t  --------------------------------\n",
       "displacement & acceleration --> moderate negative correlation (-0.54)\n",
       "horsepower & acceleration --> moderate negative correlation (-0.69)\n",
       "mpg & horsepower --> strong negative correlation (-0.78)\n",
       "mpg & displacement --> strong negative correlation (-0.80)\n",
       "mpg & weight --> strong negative correlation (-0.83)\n",
       "horsepower & weight --> strong positive correlation (0.86)\n",
       "displacement & horsepower --> strong positive correlation (0.90)\n",
       "displacement & weight --> very strong positive correlation (0.93)\n",
       "weight & acceleration --> weak negative correlation (-0.42)\n",
       "mpg & acceleration --> weak positive correlation (0.42)"
      ]
     },
     "execution_count": 1,
     "metadata": {},
     "output_type": "execute_result"
    }
   ],
   "source": [
    "import eda_report\n",
    "from seaborn import load_dataset\n",
    "\n",
    "\n",
    "data = load_dataset(\"mpg\")\n",
    "\n",
    "eda_report.summarize(data)"
   ]
  },
  {
   "cell_type": "code",
   "execution_count": 2,
   "metadata": {},
   "outputs": [
    {
     "name": "stderr",
     "output_type": "stream",
     "text": [
      "[WARNING 10:36:36.315] Skipped Bivariate Analysis: There are less than 2 numeric variables having > 5% unique values.\n"
     ]
    },
    {
     "data": {
      "text/plain": [
       "\t\tOverview\n",
       "\t\t========\n",
       "Name: acceleration\n",
       "Type: numeric\n",
       "Unique Values: 95 -> [8.0, 8.5, 9.0, 9.5, 10.0, 10.5, 11.0, 11.1, [...]\n",
       "Missing Values: None\n",
       "\n",
       "\t  Summary Statistics\n",
       "\t  ------------------\n",
       "                                  \n",
       "Number of observations  398.000000\n",
       "Average                  15.568090\n",
       "Standard Deviation        2.757689\n",
       "Minimum                   8.000000\n",
       "Lower Quartile           13.825000\n",
       "Median                   15.500000\n",
       "Upper Quartile           17.175000\n",
       "Maximum                  24.800000\n",
       "Skewness                  0.278777\n",
       "Kurtosis                  0.419497\n",
       "\n",
       "\t  Tests for Normality\n",
       "\t  -------------------\n",
       "                               p-value Conclusion at α = 0.05\n",
       "D'Agostino's K-squared test  0.0220603  Unlikely to be normal\n",
       "Kolmogorov-Smirnov test      0.0000000  Unlikely to be normal"
      ]
     },
     "execution_count": 2,
     "metadata": {},
     "output_type": "execute_result"
    }
   ],
   "source": [
    "eda_report.summarize(data[\"acceleration\"])"
   ]
  },
  {
   "cell_type": "markdown",
   "metadata": {},
   "source": [
    "# 2. Generate a Report Document"
   ]
  },
  {
   "cell_type": "code",
   "execution_count": 3,
   "metadata": {
    "scrolled": true
   },
   "outputs": [
    {
     "name": "stderr",
     "output_type": "stream",
     "text": [
      "Bivariate analysis: 100%|███████████████████████████████████| 10/10 numeric pair\n",
      "Univariate analysis: 100%|███████████████████████████████████| 9/9 features.\n",
      "[INFO 10:36:46.445] Done. Results saved as 'mpg-report.docx'\n"
     ]
    },
    {
     "data": {
      "text/html": [
       "<a href='mpg-report.docx' target='_blank'>mpg-report.docx</a><br>"
      ],
      "text/plain": [
       "/home/tim/Projects/eda-report/mpg-report.docx"
      ]
     },
     "execution_count": 3,
     "metadata": {},
     "output_type": "execute_result"
    }
   ],
   "source": [
    "from IPython.display import FileLink\n",
    "\n",
    "\n",
    "file_name = \"mpg-report.docx\"\n",
    "report = eda_report.get_word_report(data, output_filename=file_name)\n",
    "FileLink(file_name)"
   ]
  }
 ],
 "metadata": {
  "kernelspec": {
   "display_name": "Python 3 (ipykernel)",
   "language": "python",
   "name": "python3"
  },
  "language_info": {
   "codemirror_mode": {
    "name": "ipython",
    "version": 3
   },
   "file_extension": ".py",
   "mimetype": "text/x-python",
   "name": "python",
   "nbconvert_exporter": "python",
   "pygments_lexer": "ipython3",
   "version": "3.9.10"
  }
 },
 "nbformat": 4,
 "nbformat_minor": 4
}
